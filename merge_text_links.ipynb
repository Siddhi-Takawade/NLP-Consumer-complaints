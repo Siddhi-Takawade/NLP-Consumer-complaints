{
  "nbformat": 4,
  "nbformat_minor": 0,
  "metadata": {
    "colab": {
      "name": "merge_text_links.ipynb",
      "provenance": [],
      "collapsed_sections": [],
      "include_colab_link": true
    },
    "kernelspec": {
      "name": "python3",
      "display_name": "Python 3"
    },
    "language_info": {
      "name": "python"
    }
  },
  "cells": [
    {
      "cell_type": "markdown",
      "metadata": {
        "id": "view-in-github",
        "colab_type": "text"
      },
      "source": [
        "<a href=\"https://colab.research.google.com/github/Siddhi-Takawade/NLP-Consumer-complaints/blob/main/merge_text_links.ipynb\" target=\"_parent\"><img src=\"https://colab.research.google.com/assets/colab-badge.svg\" alt=\"Open In Colab\"/></a>"
      ]
    },
    {
      "cell_type": "code",
      "metadata": {
        "id": "N4JHDjzjOHZi"
      },
      "source": [
        "import pandas as pd\n",
        "import numpy as np\n",
        "import matplotlib.pyplot as plt\n",
        "import seaborn as sns\n",
        "%matplotlib inline"
      ],
      "execution_count": null,
      "outputs": []
    },
    {
      "cell_type": "code",
      "metadata": {
        "colab": {
          "base_uri": "https://localhost:8080/",
          "height": 35
        },
        "id": "KtqacpDUOSdK",
        "outputId": "29bf38a5-8a4c-4da6-b3ed-922ed0487e70"
      },
      "source": [
        "import os\n",
        "os.getcwd()"
      ],
      "execution_count": null,
      "outputs": [
        {
          "output_type": "execute_result",
          "data": {
            "application/vnd.google.colaboratory.intrinsic+json": {
              "type": "string"
            },
            "text/plain": [
              "'/content'"
            ]
          },
          "metadata": {
            "tags": []
          },
          "execution_count": 3
        }
      ]
    },
    {
      "cell_type": "code",
      "metadata": {
        "colab": {
          "base_uri": "https://localhost:8080/"
        },
        "id": "FVQKkKtMOYIS",
        "outputId": "4869e2b8-f8e6-4b1c-dddf-82003abce58c"
      },
      "source": [
        "from google.colab import drive\n",
        "drive.mount('/content/drive')"
      ],
      "execution_count": null,
      "outputs": [
        {
          "output_type": "stream",
          "text": [
            "Drive already mounted at /content/drive; to attempt to forcibly remount, call drive.mount(\"/content/drive\", force_remount=True).\n"
          ],
          "name": "stdout"
        }
      ]
    },
    {
      "cell_type": "code",
      "metadata": {
        "id": "QeXVDVolOhTV"
      },
      "source": [
        "path1 =\"/content/drive/MyDrive/Wids/bsnl_as_link.csv\"\n",
        "path2 =\"/content/drive/MyDrive/Wids/bsnl_text.csv\"\n",
        "df1=pd.read_csv(path1)\n",
        "df2=pd.read_csv(path2)"
      ],
      "execution_count": null,
      "outputs": []
    },
    {
      "cell_type": "code",
      "metadata": {
        "colab": {
          "base_uri": "https://localhost:8080/",
          "height": 626
        },
        "id": "xC_-K5Z8ZoDv",
        "outputId": "181d3ec1-bc34-41b3-f51c-d8d169e3346f"
      },
      "source": [
        "df1.head()"
      ],
      "execution_count": null,
      "outputs": [
        {
          "output_type": "execute_result",
          "data": {
            "text/html": [
              "<div>\n",
              "<style scoped>\n",
              "    .dataframe tbody tr th:only-of-type {\n",
              "        vertical-align: middle;\n",
              "    }\n",
              "\n",
              "    .dataframe tbody tr th {\n",
              "        vertical-align: top;\n",
              "    }\n",
              "\n",
              "    .dataframe thead th {\n",
              "        text-align: right;\n",
              "    }\n",
              "</style>\n",
              "<table border=\"1\" class=\"dataframe\">\n",
              "  <thead>\n",
              "    <tr style=\"text-align: right;\">\n",
              "      <th></th>\n",
              "      <th>web-scraper-order</th>\n",
              "      <th>web-scraper-start-url</th>\n",
              "      <th>link_title</th>\n",
              "      <th>link_title-href</th>\n",
              "      <th>comp_detail</th>\n",
              "      <th>update_date</th>\n",
              "      <th>comp_status_text</th>\n",
              "      <th>username</th>\n",
              "      <th>comp_date</th>\n",
              "      <th>comp_location</th>\n",
              "      <th>comp_status</th>\n",
              "    </tr>\n",
              "  </thead>\n",
              "  <tbody>\n",
              "    <tr>\n",
              "      <th>0</th>\n",
              "      <td>1623825574-391</td>\n",
              "      <td>https://www.consumercomplaints.in/bharat-sanch...</td>\n",
              "      <td>BSNL Dataone —\\nbroadband connecting problem</td>\n",
              "      <td>https://www.consumercomplaints.in/complaints/b...</td>\n",
              "      <td>hai\\n\\niam using broad band services since one...</td>\n",
              "      <td>NaN</td>\n",
              "      <td>NaN</td>\n",
              "      <td>chintala srinivas rao</td>\n",
              "      <td>NaN</td>\n",
              "      <td>Vellore, Tamil Nadu</td>\n",
              "      <td>NaN</td>\n",
              "    </tr>\n",
              "    <tr>\n",
              "      <th>1</th>\n",
              "      <td>1623847234-5990</td>\n",
              "      <td>https://www.consumercomplaints.in/bharat-sanch...</td>\n",
              "      <td>Bharat Sanchar Nigam [BSNL] —\\ndata service in...</td>\n",
              "      <td>https://www.consumercomplaints.in/bharat-sanch...</td>\n",
              "      <td>I recharged with 429 rupee plan for 3.2 gb per...</td>\n",
              "      <td>Oct 08, 2019</td>\n",
              "      <td>Bharat Sanchar Nigam [BSNL] customer support h...</td>\n",
              "      <td>its GauRAV</td>\n",
              "      <td>Oct 8, 2019</td>\n",
              "      <td>Mathura, Uttar Pradesh</td>\n",
              "      <td>NaN</td>\n",
              "    </tr>\n",
              "    <tr>\n",
              "      <th>2</th>\n",
              "      <td>1623841539-4219</td>\n",
              "      <td>https://www.consumercomplaints.in/bharat-sanch...</td>\n",
              "      <td>BSNL —\\nMore than 3 times I received the chann...</td>\n",
              "      <td>https://www.consumercomplaints.in/bsnl-more-th...</td>\n",
              "      <td>More than 3 times I received the channel renew...</td>\n",
              "      <td>Mar 19, 2014</td>\n",
              "      <td>Bharat Sanchar Nigam [BSNL] customer support h...</td>\n",
              "      <td>megh_prince</td>\n",
              "      <td>NaN</td>\n",
              "      <td>Mumbai, Maharashtra</td>\n",
              "      <td>NaN</td>\n",
              "    </tr>\n",
              "    <tr>\n",
              "      <th>3</th>\n",
              "      <td>1623825533-376</td>\n",
              "      <td>https://www.consumercomplaints.in/bharat-sanch...</td>\n",
              "      <td>BSNL Broadband —\\nNOT GETTING USAGE DETAILS</td>\n",
              "      <td>https://www.consumercomplaints.in/complaints/b...</td>\n",
              "      <td>i am getting my user name/password as invalid ...</td>\n",
              "      <td>Aug 14, 2020</td>\n",
              "      <td>NaN</td>\n",
              "      <td>Abhishek kumar</td>\n",
              "      <td>NaN</td>\n",
              "      <td>Sikar, Rajasthan</td>\n",
              "      <td>[Resolved]</td>\n",
              "    </tr>\n",
              "    <tr>\n",
              "      <th>4</th>\n",
              "      <td>1623834784-2028</td>\n",
              "      <td>https://www.consumercomplaints.in/bharat-sanch...</td>\n",
              "      <td>BSNL Games on Demand —\\ndeactivate programme</td>\n",
              "      <td>https://www.consumercomplaints.in/complaints/b...</td>\n",
              "      <td>my name is myrna pereira and my number is[prot...</td>\n",
              "      <td>Aug 13, 2020</td>\n",
              "      <td>NaN</td>\n",
              "      <td>myrnapereira</td>\n",
              "      <td>NaN</td>\n",
              "      <td>Chennai, Tamil Nadu</td>\n",
              "      <td>[Resolved]</td>\n",
              "    </tr>\n",
              "  </tbody>\n",
              "</table>\n",
              "</div>"
            ],
            "text/plain": [
              "  web-scraper-order  ... comp_status\n",
              "0    1623825574-391  ...         NaN\n",
              "1   1623847234-5990  ...         NaN\n",
              "2   1623841539-4219  ...         NaN\n",
              "3    1623825533-376  ...  [Resolved]\n",
              "4   1623834784-2028  ...  [Resolved]\n",
              "\n",
              "[5 rows x 11 columns]"
            ]
          },
          "metadata": {
            "tags": []
          },
          "execution_count": 11
        }
      ]
    },
    {
      "cell_type": "code",
      "metadata": {
        "colab": {
          "base_uri": "https://localhost:8080/",
          "height": 341
        },
        "id": "k1j29YElaap8",
        "outputId": "7721800c-2852-4e98-a82e-a7707fae736c"
      },
      "source": [
        "df2.head()"
      ],
      "execution_count": null,
      "outputs": [
        {
          "output_type": "execute_result",
          "data": {
            "text/html": [
              "<div>\n",
              "<style scoped>\n",
              "    .dataframe tbody tr th:only-of-type {\n",
              "        vertical-align: middle;\n",
              "    }\n",
              "\n",
              "    .dataframe tbody tr th {\n",
              "        vertical-align: top;\n",
              "    }\n",
              "\n",
              "    .dataframe thead th {\n",
              "        text-align: right;\n",
              "    }\n",
              "</style>\n",
              "<table border=\"1\" class=\"dataframe\">\n",
              "  <thead>\n",
              "    <tr style=\"text-align: right;\">\n",
              "      <th></th>\n",
              "      <th>web-scraper-order</th>\n",
              "      <th>web-scraper-start-url</th>\n",
              "      <th>comp_detail</th>\n",
              "      <th>update_date</th>\n",
              "      <th>comp_status_text</th>\n",
              "      <th>username</th>\n",
              "      <th>comp_date</th>\n",
              "      <th>comp_location</th>\n",
              "      <th>comp_status</th>\n",
              "      <th>compl_title</th>\n",
              "    </tr>\n",
              "  </thead>\n",
              "  <tbody>\n",
              "    <tr>\n",
              "      <th>0</th>\n",
              "      <td>1623865146-10652</td>\n",
              "      <td>https://www.consumercomplaints.in/bharat-sanch...</td>\n",
              "      <td>NaN</td>\n",
              "      <td>NaN</td>\n",
              "      <td>NaN</td>\n",
              "      <td>Arijita22</td>\n",
              "      <td>NaN</td>\n",
              "      <td>Kolkata, West Bengal</td>\n",
              "      <td>NaN</td>\n",
              "      <td>NaN</td>\n",
              "    </tr>\n",
              "    <tr>\n",
              "      <th>1</th>\n",
              "      <td>1623865544-13253</td>\n",
              "      <td>https://www.consumercomplaints.in/bharat-sanch...</td>\n",
              "      <td>NaN</td>\n",
              "      <td>NaN</td>\n",
              "      <td>NaN</td>\n",
              "      <td>imtiyaz521953</td>\n",
              "      <td>NaN</td>\n",
              "      <td>Chennai, Tamil Nadu</td>\n",
              "      <td>NaN</td>\n",
              "      <td>NaN</td>\n",
              "    </tr>\n",
              "    <tr>\n",
              "      <th>2</th>\n",
              "      <td>1623865659-14120</td>\n",
              "      <td>https://www.consumercomplaints.in/bharat-sanch...</td>\n",
              "      <td>NaN</td>\n",
              "      <td>NaN</td>\n",
              "      <td>NaN</td>\n",
              "      <td>Shanti Swarup</td>\n",
              "      <td>NaN</td>\n",
              "      <td>Allahabad, Uttar Pradesh</td>\n",
              "      <td>NaN</td>\n",
              "      <td>NaN</td>\n",
              "    </tr>\n",
              "    <tr>\n",
              "      <th>3</th>\n",
              "      <td>1623866613-19147</td>\n",
              "      <td>https://www.consumercomplaints.in/bharat-sanch...</td>\n",
              "      <td>NaN</td>\n",
              "      <td>NaN</td>\n",
              "      <td>NaN</td>\n",
              "      <td>JYOTI PROKAS CHATTOPADHYAY</td>\n",
              "      <td>Aug 23, 2018</td>\n",
              "      <td>Mumbai, Maharashtra</td>\n",
              "      <td>NaN</td>\n",
              "      <td>NaN</td>\n",
              "    </tr>\n",
              "    <tr>\n",
              "      <th>4</th>\n",
              "      <td>1623865817-15102</td>\n",
              "      <td>https://www.consumercomplaints.in/bharat-sanch...</td>\n",
              "      <td>NaN</td>\n",
              "      <td>NaN</td>\n",
              "      <td>NaN</td>\n",
              "      <td>bnil53</td>\n",
              "      <td>NaN</td>\n",
              "      <td>Delhi, Delhi</td>\n",
              "      <td>NaN</td>\n",
              "      <td>NaN</td>\n",
              "    </tr>\n",
              "  </tbody>\n",
              "</table>\n",
              "</div>"
            ],
            "text/plain": [
              "  web-scraper-order  ... compl_title\n",
              "0  1623865146-10652  ...         NaN\n",
              "1  1623865544-13253  ...         NaN\n",
              "2  1623865659-14120  ...         NaN\n",
              "3  1623866613-19147  ...         NaN\n",
              "4  1623865817-15102  ...         NaN\n",
              "\n",
              "[5 rows x 10 columns]"
            ]
          },
          "metadata": {
            "tags": []
          },
          "execution_count": 12
        }
      ]
    },
    {
      "cell_type": "code",
      "metadata": {
        "colab": {
          "base_uri": "https://localhost:8080/"
        },
        "id": "EpQMjrVgaq2p",
        "outputId": "bb7541ac-ff3b-439d-ca16-422d40631ad1"
      },
      "source": [
        "df2.info()"
      ],
      "execution_count": null,
      "outputs": [
        {
          "output_type": "stream",
          "text": [
            "<class 'pandas.core.frame.DataFrame'>\n",
            "RangeIndex: 14605 entries, 0 to 14604\n",
            "Data columns (total 10 columns):\n",
            " #   Column                 Non-Null Count  Dtype  \n",
            "---  ------                 --------------  -----  \n",
            " 0   web-scraper-order      14605 non-null  object \n",
            " 1   web-scraper-start-url  14605 non-null  object \n",
            " 2   comp_detail            7958 non-null   object \n",
            " 3   update_date            7346 non-null   object \n",
            " 4   comp_status_text       3804 non-null   object \n",
            " 5   username               14605 non-null  object \n",
            " 6   comp_date              4501 non-null   object \n",
            " 7   comp_location          12825 non-null  object \n",
            " 8   comp_status            0 non-null      float64\n",
            " 9   compl_title            7958 non-null   object \n",
            "dtypes: float64(1), object(9)\n",
            "memory usage: 1.1+ MB\n"
          ],
          "name": "stdout"
        }
      ]
    },
    {
      "cell_type": "code",
      "metadata": {
        "id": "ay_p_HoAayVn"
      },
      "source": [
        "df2 = df2.dropna(axis=0, subset=['compl_title'])"
      ],
      "execution_count": null,
      "outputs": []
    },
    {
      "cell_type": "code",
      "metadata": {
        "colab": {
          "base_uri": "https://localhost:8080/"
        },
        "id": "wPmIuh61a552",
        "outputId": "70652187-31f1-4cd1-f861-880580210eca"
      },
      "source": [
        "df2.info()"
      ],
      "execution_count": null,
      "outputs": [
        {
          "output_type": "stream",
          "text": [
            "<class 'pandas.core.frame.DataFrame'>\n",
            "Int64Index: 117 entries, 0 to 198\n",
            "Data columns (total 10 columns):\n",
            " #   Column                 Non-Null Count  Dtype  \n",
            "---  ------                 --------------  -----  \n",
            " 0   web-scraper-order      117 non-null    object \n",
            " 1   web-scraper-start-url  117 non-null    object \n",
            " 2   comp_detail            117 non-null    object \n",
            " 3   update_date            100 non-null    object \n",
            " 4   comp_status_text       100 non-null    object \n",
            " 5   username               117 non-null    object \n",
            " 6   comp_date              117 non-null    object \n",
            " 7   comp_location          22 non-null     object \n",
            " 8   comp_status            0 non-null      float64\n",
            " 9   compl_title            117 non-null    object \n",
            "dtypes: float64(1), object(9)\n",
            "memory usage: 10.1+ KB\n"
          ],
          "name": "stdout"
        }
      ]
    },
    {
      "cell_type": "code",
      "metadata": {
        "id": "_RipaZ1ubTru"
      },
      "source": [
        "df1=df1.rename(columns={\"link_title\": \"compl_title\", \"B\": \"c\"})"
      ],
      "execution_count": null,
      "outputs": []
    },
    {
      "cell_type": "code",
      "metadata": {
        "colab": {
          "base_uri": "https://localhost:8080/",
          "height": 626
        },
        "id": "WKPikR83bna4",
        "outputId": "6b19daba-b568-4a8a-ddeb-c19d21ef2409"
      },
      "source": [
        "df1.head()"
      ],
      "execution_count": null,
      "outputs": [
        {
          "output_type": "execute_result",
          "data": {
            "text/html": [
              "<div>\n",
              "<style scoped>\n",
              "    .dataframe tbody tr th:only-of-type {\n",
              "        vertical-align: middle;\n",
              "    }\n",
              "\n",
              "    .dataframe tbody tr th {\n",
              "        vertical-align: top;\n",
              "    }\n",
              "\n",
              "    .dataframe thead th {\n",
              "        text-align: right;\n",
              "    }\n",
              "</style>\n",
              "<table border=\"1\" class=\"dataframe\">\n",
              "  <thead>\n",
              "    <tr style=\"text-align: right;\">\n",
              "      <th></th>\n",
              "      <th>web-scraper-order</th>\n",
              "      <th>web-scraper-start-url</th>\n",
              "      <th>compl_title</th>\n",
              "      <th>link_title-href</th>\n",
              "      <th>comp_detail</th>\n",
              "      <th>update_date</th>\n",
              "      <th>comp_status_text</th>\n",
              "      <th>username</th>\n",
              "      <th>comp_date</th>\n",
              "      <th>comp_location</th>\n",
              "      <th>comp_status</th>\n",
              "    </tr>\n",
              "  </thead>\n",
              "  <tbody>\n",
              "    <tr>\n",
              "      <th>0</th>\n",
              "      <td>1623825574-391</td>\n",
              "      <td>https://www.consumercomplaints.in/bharat-sanch...</td>\n",
              "      <td>BSNL Dataone —\\nbroadband connecting problem</td>\n",
              "      <td>https://www.consumercomplaints.in/complaints/b...</td>\n",
              "      <td>hai\\n\\niam using broad band services since one...</td>\n",
              "      <td>NaN</td>\n",
              "      <td>NaN</td>\n",
              "      <td>chintala srinivas rao</td>\n",
              "      <td>NaN</td>\n",
              "      <td>Vellore, Tamil Nadu</td>\n",
              "      <td>NaN</td>\n",
              "    </tr>\n",
              "    <tr>\n",
              "      <th>1</th>\n",
              "      <td>1623847234-5990</td>\n",
              "      <td>https://www.consumercomplaints.in/bharat-sanch...</td>\n",
              "      <td>Bharat Sanchar Nigam [BSNL] —\\ndata service in...</td>\n",
              "      <td>https://www.consumercomplaints.in/bharat-sanch...</td>\n",
              "      <td>I recharged with 429 rupee plan for 3.2 gb per...</td>\n",
              "      <td>Oct 08, 2019</td>\n",
              "      <td>Bharat Sanchar Nigam [BSNL] customer support h...</td>\n",
              "      <td>its GauRAV</td>\n",
              "      <td>Oct 8, 2019</td>\n",
              "      <td>Mathura, Uttar Pradesh</td>\n",
              "      <td>NaN</td>\n",
              "    </tr>\n",
              "    <tr>\n",
              "      <th>2</th>\n",
              "      <td>1623841539-4219</td>\n",
              "      <td>https://www.consumercomplaints.in/bharat-sanch...</td>\n",
              "      <td>BSNL —\\nMore than 3 times I received the chann...</td>\n",
              "      <td>https://www.consumercomplaints.in/bsnl-more-th...</td>\n",
              "      <td>More than 3 times I received the channel renew...</td>\n",
              "      <td>Mar 19, 2014</td>\n",
              "      <td>Bharat Sanchar Nigam [BSNL] customer support h...</td>\n",
              "      <td>megh_prince</td>\n",
              "      <td>NaN</td>\n",
              "      <td>Mumbai, Maharashtra</td>\n",
              "      <td>NaN</td>\n",
              "    </tr>\n",
              "    <tr>\n",
              "      <th>3</th>\n",
              "      <td>1623825533-376</td>\n",
              "      <td>https://www.consumercomplaints.in/bharat-sanch...</td>\n",
              "      <td>BSNL Broadband —\\nNOT GETTING USAGE DETAILS</td>\n",
              "      <td>https://www.consumercomplaints.in/complaints/b...</td>\n",
              "      <td>i am getting my user name/password as invalid ...</td>\n",
              "      <td>Aug 14, 2020</td>\n",
              "      <td>NaN</td>\n",
              "      <td>Abhishek kumar</td>\n",
              "      <td>NaN</td>\n",
              "      <td>Sikar, Rajasthan</td>\n",
              "      <td>[Resolved]</td>\n",
              "    </tr>\n",
              "    <tr>\n",
              "      <th>4</th>\n",
              "      <td>1623834784-2028</td>\n",
              "      <td>https://www.consumercomplaints.in/bharat-sanch...</td>\n",
              "      <td>BSNL Games on Demand —\\ndeactivate programme</td>\n",
              "      <td>https://www.consumercomplaints.in/complaints/b...</td>\n",
              "      <td>my name is myrna pereira and my number is[prot...</td>\n",
              "      <td>Aug 13, 2020</td>\n",
              "      <td>NaN</td>\n",
              "      <td>myrnapereira</td>\n",
              "      <td>NaN</td>\n",
              "      <td>Chennai, Tamil Nadu</td>\n",
              "      <td>[Resolved]</td>\n",
              "    </tr>\n",
              "  </tbody>\n",
              "</table>\n",
              "</div>"
            ],
            "text/plain": [
              "  web-scraper-order  ... comp_status\n",
              "0    1623825574-391  ...         NaN\n",
              "1   1623847234-5990  ...         NaN\n",
              "2   1623841539-4219  ...         NaN\n",
              "3    1623825533-376  ...  [Resolved]\n",
              "4   1623834784-2028  ...  [Resolved]\n",
              "\n",
              "[5 rows x 11 columns]"
            ]
          },
          "metadata": {
            "tags": []
          },
          "execution_count": 16
        }
      ]
    },
    {
      "cell_type": "code",
      "metadata": {
        "id": "dNZaawDGcGXt"
      },
      "source": [
        "df2[\"link_title-href\"] = 'NaN'"
      ],
      "execution_count": null,
      "outputs": []
    },
    {
      "cell_type": "code",
      "metadata": {
        "colab": {
          "base_uri": "https://localhost:8080/",
          "height": 593
        },
        "id": "yEiKUdU9cUJv",
        "outputId": "78c37724-9f8b-46d9-93e3-3e11a886313b"
      },
      "source": [
        "df2.head()"
      ],
      "execution_count": null,
      "outputs": [
        {
          "output_type": "execute_result",
          "data": {
            "text/html": [
              "<div>\n",
              "<style scoped>\n",
              "    .dataframe tbody tr th:only-of-type {\n",
              "        vertical-align: middle;\n",
              "    }\n",
              "\n",
              "    .dataframe tbody tr th {\n",
              "        vertical-align: top;\n",
              "    }\n",
              "\n",
              "    .dataframe thead th {\n",
              "        text-align: right;\n",
              "    }\n",
              "</style>\n",
              "<table border=\"1\" class=\"dataframe\">\n",
              "  <thead>\n",
              "    <tr style=\"text-align: right;\">\n",
              "      <th></th>\n",
              "      <th>web-scraper-order</th>\n",
              "      <th>web-scraper-start-url</th>\n",
              "      <th>comp_detail</th>\n",
              "      <th>update_date</th>\n",
              "      <th>comp_status_text</th>\n",
              "      <th>username</th>\n",
              "      <th>comp_date</th>\n",
              "      <th>comp_location</th>\n",
              "      <th>comp_status</th>\n",
              "      <th>compl_title</th>\n",
              "      <th>link_title-href</th>\n",
              "    </tr>\n",
              "  </thead>\n",
              "  <tbody>\n",
              "    <tr>\n",
              "      <th>6</th>\n",
              "      <td>1623864618-7687</td>\n",
              "      <td>https://www.consumercomplaints.in/bharat-sanch...</td>\n",
              "      <td>Ref: Consumer No. [protected]\\n\\nTelephone No....</td>\n",
              "      <td>Aug 14, 2020</td>\n",
              "      <td>NaN</td>\n",
              "      <td>Devaraj Arunachalam</td>\n",
              "      <td>NaN</td>\n",
              "      <td>Chennai, Tamil Nadu</td>\n",
              "      <td>NaN</td>\n",
              "      <td>BSNL Dataone —\\nIssue in internet connectivity</td>\n",
              "      <td>NaN</td>\n",
              "    </tr>\n",
              "    <tr>\n",
              "      <th>7</th>\n",
              "      <td>1623865277-11481</td>\n",
              "      <td>https://www.consumercomplaints.in/bharat-sanch...</td>\n",
              "      <td>Dear Sir/ Madam\\n\\nMy name is ANNESHA ROY CHOU...</td>\n",
              "      <td>Aug 13, 2020</td>\n",
              "      <td>NaN</td>\n",
              "      <td>ANNESHA ROY CHOUDHURY</td>\n",
              "      <td>Apr 11, 2011</td>\n",
              "      <td>Hiriyur, Karnataka</td>\n",
              "      <td>NaN</td>\n",
              "      <td>BSNL Evdo Data Card —\\nNON RECEIPT OF BILL</td>\n",
              "      <td>NaN</td>\n",
              "    </tr>\n",
              "    <tr>\n",
              "      <th>8</th>\n",
              "      <td>1623866478-18380</td>\n",
              "      <td>https://www.consumercomplaints.in/bharat-sanch...</td>\n",
              "      <td>I am trying to login to self care web portal. ...</td>\n",
              "      <td>Aug 31, 2017</td>\n",
              "      <td>Bharat Sanchar Nigam [BSNL] customer support h...</td>\n",
              "      <td>RamaKrishna Pulim</td>\n",
              "      <td>Aug 31, 2017</td>\n",
              "      <td>Jayamkondacholapuram, Tamil Nadu</td>\n",
              "      <td>NaN</td>\n",
              "      <td>Bharat Sanchar Nigam [BSNL] —\\ncellular number...</td>\n",
              "      <td>NaN</td>\n",
              "    </tr>\n",
              "    <tr>\n",
              "      <th>9</th>\n",
              "      <td>1623864622-7716</td>\n",
              "      <td>https://www.consumercomplaints.in/bharat-sanch...</td>\n",
              "      <td>sir, \\n\\ni had applied for dataone broadband c...</td>\n",
              "      <td>Aug 14, 2020</td>\n",
              "      <td>NaN</td>\n",
              "      <td>Niranj</td>\n",
              "      <td>NaN</td>\n",
              "      <td>Bengaluru, Karnataka</td>\n",
              "      <td>NaN</td>\n",
              "      <td>BSNL Broadband —\\ninternet connection</td>\n",
              "      <td>NaN</td>\n",
              "    </tr>\n",
              "    <tr>\n",
              "      <th>13</th>\n",
              "      <td>1623865352-12013</td>\n",
              "      <td>https://www.consumercomplaints.in/bharat-sanch...</td>\n",
              "      <td>I recharged my phone number [protected] with D...</td>\n",
              "      <td>Aug 13, 2020</td>\n",
              "      <td>NaN</td>\n",
              "      <td>SamyoSaurav</td>\n",
              "      <td>NaN</td>\n",
              "      <td>Hospet, Karnataka</td>\n",
              "      <td>NaN</td>\n",
              "      <td>BSNL 3G —\\nDRV-4200 (6 months validity) become...</td>\n",
              "      <td>NaN</td>\n",
              "    </tr>\n",
              "  </tbody>\n",
              "</table>\n",
              "</div>"
            ],
            "text/plain": [
              "   web-scraper-order  ... link_title-href\n",
              "6    1623864618-7687  ...             NaN\n",
              "7   1623865277-11481  ...             NaN\n",
              "8   1623866478-18380  ...             NaN\n",
              "9    1623864622-7716  ...             NaN\n",
              "13  1623865352-12013  ...             NaN\n",
              "\n",
              "[5 rows x 11 columns]"
            ]
          },
          "metadata": {
            "tags": []
          },
          "execution_count": 18
        }
      ]
    },
    {
      "cell_type": "code",
      "metadata": {
        "id": "96eluPT_cZwi"
      },
      "source": [
        "df2 = df2[['web-scraper-order','web-scraper-start-url','compl_title','link_title-href','comp_detail','update_date','comp_status_text','username','comp_date','comp_location','comp_status']]"
      ],
      "execution_count": null,
      "outputs": []
    },
    {
      "cell_type": "code",
      "metadata": {
        "colab": {
          "base_uri": "https://localhost:8080/",
          "height": 593
        },
        "id": "3pRIKLx5dGRG",
        "outputId": "348e9d9b-b016-4fe2-82e3-36dc6331350c"
      },
      "source": [
        "df2.head()"
      ],
      "execution_count": null,
      "outputs": [
        {
          "output_type": "execute_result",
          "data": {
            "text/html": [
              "<div>\n",
              "<style scoped>\n",
              "    .dataframe tbody tr th:only-of-type {\n",
              "        vertical-align: middle;\n",
              "    }\n",
              "\n",
              "    .dataframe tbody tr th {\n",
              "        vertical-align: top;\n",
              "    }\n",
              "\n",
              "    .dataframe thead th {\n",
              "        text-align: right;\n",
              "    }\n",
              "</style>\n",
              "<table border=\"1\" class=\"dataframe\">\n",
              "  <thead>\n",
              "    <tr style=\"text-align: right;\">\n",
              "      <th></th>\n",
              "      <th>web-scraper-order</th>\n",
              "      <th>web-scraper-start-url</th>\n",
              "      <th>compl_title</th>\n",
              "      <th>link_title-href</th>\n",
              "      <th>comp_detail</th>\n",
              "      <th>update_date</th>\n",
              "      <th>comp_status_text</th>\n",
              "      <th>username</th>\n",
              "      <th>comp_date</th>\n",
              "      <th>comp_location</th>\n",
              "      <th>comp_status</th>\n",
              "    </tr>\n",
              "  </thead>\n",
              "  <tbody>\n",
              "    <tr>\n",
              "      <th>6</th>\n",
              "      <td>1623864618-7687</td>\n",
              "      <td>https://www.consumercomplaints.in/bharat-sanch...</td>\n",
              "      <td>BSNL Dataone —\\nIssue in internet connectivity</td>\n",
              "      <td>NaN</td>\n",
              "      <td>Ref: Consumer No. [protected]\\n\\nTelephone No....</td>\n",
              "      <td>Aug 14, 2020</td>\n",
              "      <td>NaN</td>\n",
              "      <td>Devaraj Arunachalam</td>\n",
              "      <td>NaN</td>\n",
              "      <td>Chennai, Tamil Nadu</td>\n",
              "      <td>NaN</td>\n",
              "    </tr>\n",
              "    <tr>\n",
              "      <th>7</th>\n",
              "      <td>1623865277-11481</td>\n",
              "      <td>https://www.consumercomplaints.in/bharat-sanch...</td>\n",
              "      <td>BSNL Evdo Data Card —\\nNON RECEIPT OF BILL</td>\n",
              "      <td>NaN</td>\n",
              "      <td>Dear Sir/ Madam\\n\\nMy name is ANNESHA ROY CHOU...</td>\n",
              "      <td>Aug 13, 2020</td>\n",
              "      <td>NaN</td>\n",
              "      <td>ANNESHA ROY CHOUDHURY</td>\n",
              "      <td>Apr 11, 2011</td>\n",
              "      <td>Hiriyur, Karnataka</td>\n",
              "      <td>NaN</td>\n",
              "    </tr>\n",
              "    <tr>\n",
              "      <th>8</th>\n",
              "      <td>1623866478-18380</td>\n",
              "      <td>https://www.consumercomplaints.in/bharat-sanch...</td>\n",
              "      <td>Bharat Sanchar Nigam [BSNL] —\\ncellular number...</td>\n",
              "      <td>NaN</td>\n",
              "      <td>I am trying to login to self care web portal. ...</td>\n",
              "      <td>Aug 31, 2017</td>\n",
              "      <td>Bharat Sanchar Nigam [BSNL] customer support h...</td>\n",
              "      <td>RamaKrishna Pulim</td>\n",
              "      <td>Aug 31, 2017</td>\n",
              "      <td>Jayamkondacholapuram, Tamil Nadu</td>\n",
              "      <td>NaN</td>\n",
              "    </tr>\n",
              "    <tr>\n",
              "      <th>9</th>\n",
              "      <td>1623864622-7716</td>\n",
              "      <td>https://www.consumercomplaints.in/bharat-sanch...</td>\n",
              "      <td>BSNL Broadband —\\ninternet connection</td>\n",
              "      <td>NaN</td>\n",
              "      <td>sir, \\n\\ni had applied for dataone broadband c...</td>\n",
              "      <td>Aug 14, 2020</td>\n",
              "      <td>NaN</td>\n",
              "      <td>Niranj</td>\n",
              "      <td>NaN</td>\n",
              "      <td>Bengaluru, Karnataka</td>\n",
              "      <td>NaN</td>\n",
              "    </tr>\n",
              "    <tr>\n",
              "      <th>13</th>\n",
              "      <td>1623865352-12013</td>\n",
              "      <td>https://www.consumercomplaints.in/bharat-sanch...</td>\n",
              "      <td>BSNL 3G —\\nDRV-4200 (6 months validity) become...</td>\n",
              "      <td>NaN</td>\n",
              "      <td>I recharged my phone number [protected] with D...</td>\n",
              "      <td>Aug 13, 2020</td>\n",
              "      <td>NaN</td>\n",
              "      <td>SamyoSaurav</td>\n",
              "      <td>NaN</td>\n",
              "      <td>Hospet, Karnataka</td>\n",
              "      <td>NaN</td>\n",
              "    </tr>\n",
              "  </tbody>\n",
              "</table>\n",
              "</div>"
            ],
            "text/plain": [
              "   web-scraper-order  ... comp_status\n",
              "6    1623864618-7687  ...         NaN\n",
              "7   1623865277-11481  ...         NaN\n",
              "8   1623866478-18380  ...         NaN\n",
              "9    1623864622-7716  ...         NaN\n",
              "13  1623865352-12013  ...         NaN\n",
              "\n",
              "[5 rows x 11 columns]"
            ]
          },
          "metadata": {
            "tags": []
          },
          "execution_count": 20
        }
      ]
    },
    {
      "cell_type": "code",
      "metadata": {
        "colab": {
          "base_uri": "https://localhost:8080/",
          "height": 626
        },
        "id": "UakUXQM0dJYe",
        "outputId": "63cd1254-a314-4f9a-a637-a5ad3e85522c"
      },
      "source": [
        "df1.head()"
      ],
      "execution_count": null,
      "outputs": [
        {
          "output_type": "execute_result",
          "data": {
            "text/html": [
              "<div>\n",
              "<style scoped>\n",
              "    .dataframe tbody tr th:only-of-type {\n",
              "        vertical-align: middle;\n",
              "    }\n",
              "\n",
              "    .dataframe tbody tr th {\n",
              "        vertical-align: top;\n",
              "    }\n",
              "\n",
              "    .dataframe thead th {\n",
              "        text-align: right;\n",
              "    }\n",
              "</style>\n",
              "<table border=\"1\" class=\"dataframe\">\n",
              "  <thead>\n",
              "    <tr style=\"text-align: right;\">\n",
              "      <th></th>\n",
              "      <th>web-scraper-order</th>\n",
              "      <th>web-scraper-start-url</th>\n",
              "      <th>compl_title</th>\n",
              "      <th>link_title-href</th>\n",
              "      <th>comp_detail</th>\n",
              "      <th>update_date</th>\n",
              "      <th>comp_status_text</th>\n",
              "      <th>username</th>\n",
              "      <th>comp_date</th>\n",
              "      <th>comp_location</th>\n",
              "      <th>comp_status</th>\n",
              "    </tr>\n",
              "  </thead>\n",
              "  <tbody>\n",
              "    <tr>\n",
              "      <th>0</th>\n",
              "      <td>1623825574-391</td>\n",
              "      <td>https://www.consumercomplaints.in/bharat-sanch...</td>\n",
              "      <td>BSNL Dataone —\\nbroadband connecting problem</td>\n",
              "      <td>https://www.consumercomplaints.in/complaints/b...</td>\n",
              "      <td>hai\\n\\niam using broad band services since one...</td>\n",
              "      <td>NaN</td>\n",
              "      <td>NaN</td>\n",
              "      <td>chintala srinivas rao</td>\n",
              "      <td>NaN</td>\n",
              "      <td>Vellore, Tamil Nadu</td>\n",
              "      <td>NaN</td>\n",
              "    </tr>\n",
              "    <tr>\n",
              "      <th>1</th>\n",
              "      <td>1623847234-5990</td>\n",
              "      <td>https://www.consumercomplaints.in/bharat-sanch...</td>\n",
              "      <td>Bharat Sanchar Nigam [BSNL] —\\ndata service in...</td>\n",
              "      <td>https://www.consumercomplaints.in/bharat-sanch...</td>\n",
              "      <td>I recharged with 429 rupee plan for 3.2 gb per...</td>\n",
              "      <td>Oct 08, 2019</td>\n",
              "      <td>Bharat Sanchar Nigam [BSNL] customer support h...</td>\n",
              "      <td>its GauRAV</td>\n",
              "      <td>Oct 8, 2019</td>\n",
              "      <td>Mathura, Uttar Pradesh</td>\n",
              "      <td>NaN</td>\n",
              "    </tr>\n",
              "    <tr>\n",
              "      <th>2</th>\n",
              "      <td>1623841539-4219</td>\n",
              "      <td>https://www.consumercomplaints.in/bharat-sanch...</td>\n",
              "      <td>BSNL —\\nMore than 3 times I received the chann...</td>\n",
              "      <td>https://www.consumercomplaints.in/bsnl-more-th...</td>\n",
              "      <td>More than 3 times I received the channel renew...</td>\n",
              "      <td>Mar 19, 2014</td>\n",
              "      <td>Bharat Sanchar Nigam [BSNL] customer support h...</td>\n",
              "      <td>megh_prince</td>\n",
              "      <td>NaN</td>\n",
              "      <td>Mumbai, Maharashtra</td>\n",
              "      <td>NaN</td>\n",
              "    </tr>\n",
              "    <tr>\n",
              "      <th>3</th>\n",
              "      <td>1623825533-376</td>\n",
              "      <td>https://www.consumercomplaints.in/bharat-sanch...</td>\n",
              "      <td>BSNL Broadband —\\nNOT GETTING USAGE DETAILS</td>\n",
              "      <td>https://www.consumercomplaints.in/complaints/b...</td>\n",
              "      <td>i am getting my user name/password as invalid ...</td>\n",
              "      <td>Aug 14, 2020</td>\n",
              "      <td>NaN</td>\n",
              "      <td>Abhishek kumar</td>\n",
              "      <td>NaN</td>\n",
              "      <td>Sikar, Rajasthan</td>\n",
              "      <td>[Resolved]</td>\n",
              "    </tr>\n",
              "    <tr>\n",
              "      <th>4</th>\n",
              "      <td>1623834784-2028</td>\n",
              "      <td>https://www.consumercomplaints.in/bharat-sanch...</td>\n",
              "      <td>BSNL Games on Demand —\\ndeactivate programme</td>\n",
              "      <td>https://www.consumercomplaints.in/complaints/b...</td>\n",
              "      <td>my name is myrna pereira and my number is[prot...</td>\n",
              "      <td>Aug 13, 2020</td>\n",
              "      <td>NaN</td>\n",
              "      <td>myrnapereira</td>\n",
              "      <td>NaN</td>\n",
              "      <td>Chennai, Tamil Nadu</td>\n",
              "      <td>[Resolved]</td>\n",
              "    </tr>\n",
              "  </tbody>\n",
              "</table>\n",
              "</div>"
            ],
            "text/plain": [
              "  web-scraper-order  ... comp_status\n",
              "0    1623825574-391  ...         NaN\n",
              "1   1623847234-5990  ...         NaN\n",
              "2   1623841539-4219  ...         NaN\n",
              "3    1623825533-376  ...  [Resolved]\n",
              "4   1623834784-2028  ...  [Resolved]\n",
              "\n",
              "[5 rows x 11 columns]"
            ]
          },
          "metadata": {
            "tags": []
          },
          "execution_count": 21
        }
      ]
    },
    {
      "cell_type": "code",
      "metadata": {
        "id": "u-l_PPR6dbn1"
      },
      "source": [
        "df=pd.concat([df1, df2], axis=0)"
      ],
      "execution_count": null,
      "outputs": []
    },
    {
      "cell_type": "code",
      "metadata": {
        "colab": {
          "base_uri": "https://localhost:8080/",
          "height": 626
        },
        "id": "7TxqzR5ddggS",
        "outputId": "2e9711af-b3b3-49c0-af77-0b716c1211fe"
      },
      "source": [
        "df.head()"
      ],
      "execution_count": null,
      "outputs": [
        {
          "output_type": "execute_result",
          "data": {
            "text/html": [
              "<div>\n",
              "<style scoped>\n",
              "    .dataframe tbody tr th:only-of-type {\n",
              "        vertical-align: middle;\n",
              "    }\n",
              "\n",
              "    .dataframe tbody tr th {\n",
              "        vertical-align: top;\n",
              "    }\n",
              "\n",
              "    .dataframe thead th {\n",
              "        text-align: right;\n",
              "    }\n",
              "</style>\n",
              "<table border=\"1\" class=\"dataframe\">\n",
              "  <thead>\n",
              "    <tr style=\"text-align: right;\">\n",
              "      <th></th>\n",
              "      <th>web-scraper-order</th>\n",
              "      <th>web-scraper-start-url</th>\n",
              "      <th>compl_title</th>\n",
              "      <th>link_title-href</th>\n",
              "      <th>comp_detail</th>\n",
              "      <th>update_date</th>\n",
              "      <th>comp_status_text</th>\n",
              "      <th>username</th>\n",
              "      <th>comp_date</th>\n",
              "      <th>comp_location</th>\n",
              "      <th>comp_status</th>\n",
              "    </tr>\n",
              "  </thead>\n",
              "  <tbody>\n",
              "    <tr>\n",
              "      <th>0</th>\n",
              "      <td>1623825574-391</td>\n",
              "      <td>https://www.consumercomplaints.in/bharat-sanch...</td>\n",
              "      <td>BSNL Dataone —\\nbroadband connecting problem</td>\n",
              "      <td>https://www.consumercomplaints.in/complaints/b...</td>\n",
              "      <td>hai\\n\\niam using broad band services since one...</td>\n",
              "      <td>NaN</td>\n",
              "      <td>NaN</td>\n",
              "      <td>chintala srinivas rao</td>\n",
              "      <td>NaN</td>\n",
              "      <td>Vellore, Tamil Nadu</td>\n",
              "      <td>NaN</td>\n",
              "    </tr>\n",
              "    <tr>\n",
              "      <th>1</th>\n",
              "      <td>1623847234-5990</td>\n",
              "      <td>https://www.consumercomplaints.in/bharat-sanch...</td>\n",
              "      <td>Bharat Sanchar Nigam [BSNL] —\\ndata service in...</td>\n",
              "      <td>https://www.consumercomplaints.in/bharat-sanch...</td>\n",
              "      <td>I recharged with 429 rupee plan for 3.2 gb per...</td>\n",
              "      <td>Oct 08, 2019</td>\n",
              "      <td>Bharat Sanchar Nigam [BSNL] customer support h...</td>\n",
              "      <td>its GauRAV</td>\n",
              "      <td>Oct 8, 2019</td>\n",
              "      <td>Mathura, Uttar Pradesh</td>\n",
              "      <td>NaN</td>\n",
              "    </tr>\n",
              "    <tr>\n",
              "      <th>2</th>\n",
              "      <td>1623841539-4219</td>\n",
              "      <td>https://www.consumercomplaints.in/bharat-sanch...</td>\n",
              "      <td>BSNL —\\nMore than 3 times I received the chann...</td>\n",
              "      <td>https://www.consumercomplaints.in/bsnl-more-th...</td>\n",
              "      <td>More than 3 times I received the channel renew...</td>\n",
              "      <td>Mar 19, 2014</td>\n",
              "      <td>Bharat Sanchar Nigam [BSNL] customer support h...</td>\n",
              "      <td>megh_prince</td>\n",
              "      <td>NaN</td>\n",
              "      <td>Mumbai, Maharashtra</td>\n",
              "      <td>NaN</td>\n",
              "    </tr>\n",
              "    <tr>\n",
              "      <th>3</th>\n",
              "      <td>1623825533-376</td>\n",
              "      <td>https://www.consumercomplaints.in/bharat-sanch...</td>\n",
              "      <td>BSNL Broadband —\\nNOT GETTING USAGE DETAILS</td>\n",
              "      <td>https://www.consumercomplaints.in/complaints/b...</td>\n",
              "      <td>i am getting my user name/password as invalid ...</td>\n",
              "      <td>Aug 14, 2020</td>\n",
              "      <td>NaN</td>\n",
              "      <td>Abhishek kumar</td>\n",
              "      <td>NaN</td>\n",
              "      <td>Sikar, Rajasthan</td>\n",
              "      <td>[Resolved]</td>\n",
              "    </tr>\n",
              "    <tr>\n",
              "      <th>4</th>\n",
              "      <td>1623834784-2028</td>\n",
              "      <td>https://www.consumercomplaints.in/bharat-sanch...</td>\n",
              "      <td>BSNL Games on Demand —\\ndeactivate programme</td>\n",
              "      <td>https://www.consumercomplaints.in/complaints/b...</td>\n",
              "      <td>my name is myrna pereira and my number is[prot...</td>\n",
              "      <td>Aug 13, 2020</td>\n",
              "      <td>NaN</td>\n",
              "      <td>myrnapereira</td>\n",
              "      <td>NaN</td>\n",
              "      <td>Chennai, Tamil Nadu</td>\n",
              "      <td>[Resolved]</td>\n",
              "    </tr>\n",
              "  </tbody>\n",
              "</table>\n",
              "</div>"
            ],
            "text/plain": [
              "  web-scraper-order  ... comp_status\n",
              "0    1623825574-391  ...         NaN\n",
              "1   1623847234-5990  ...         NaN\n",
              "2   1623841539-4219  ...         NaN\n",
              "3    1623825533-376  ...  [Resolved]\n",
              "4   1623834784-2028  ...  [Resolved]\n",
              "\n",
              "[5 rows x 11 columns]"
            ]
          },
          "metadata": {
            "tags": []
          },
          "execution_count": 23
        }
      ]
    },
    {
      "cell_type": "code",
      "metadata": {
        "colab": {
          "base_uri": "https://localhost:8080/"
        },
        "id": "Sv0eSqppdj-e",
        "outputId": "a2b1b736-5de5-424d-e1fc-56f15cc82db0"
      },
      "source": [
        "df1.info()"
      ],
      "execution_count": null,
      "outputs": [
        {
          "output_type": "stream",
          "text": [
            "<class 'pandas.core.frame.DataFrame'>\n",
            "RangeIndex: 6640 entries, 0 to 6639\n",
            "Data columns (total 11 columns):\n",
            " #   Column                 Non-Null Count  Dtype \n",
            "---  ------                 --------------  ----- \n",
            " 0   web-scraper-order      6640 non-null   object\n",
            " 1   web-scraper-start-url  6640 non-null   object\n",
            " 2   compl_title            6640 non-null   object\n",
            " 3   link_title-href        6640 non-null   object\n",
            " 4   comp_detail            6640 non-null   object\n",
            " 5   update_date            4127 non-null   object\n",
            " 6   comp_status_text       2156 non-null   object\n",
            " 7   username               6640 non-null   object\n",
            " 8   comp_date              1225 non-null   object\n",
            " 9   comp_location          6026 non-null   object\n",
            " 10  comp_status            2104 non-null   object\n",
            "dtypes: object(11)\n",
            "memory usage: 570.8+ KB\n"
          ],
          "name": "stdout"
        }
      ]
    },
    {
      "cell_type": "code",
      "metadata": {
        "colab": {
          "base_uri": "https://localhost:8080/"
        },
        "id": "htaLn114dkGc",
        "outputId": "d5d6867d-30fb-4e86-e1fb-64ad1cc8fff4"
      },
      "source": [
        "df2.info()"
      ],
      "execution_count": null,
      "outputs": [
        {
          "output_type": "stream",
          "text": [
            "<class 'pandas.core.frame.DataFrame'>\n",
            "Int64Index: 7958 entries, 6 to 14604\n",
            "Data columns (total 11 columns):\n",
            " #   Column                 Non-Null Count  Dtype  \n",
            "---  ------                 --------------  -----  \n",
            " 0   web-scraper-order      7958 non-null   object \n",
            " 1   web-scraper-start-url  7958 non-null   object \n",
            " 2   compl_title            7958 non-null   object \n",
            " 3   link_title-href        7958 non-null   object \n",
            " 4   comp_detail            7958 non-null   object \n",
            " 5   update_date            7346 non-null   object \n",
            " 6   comp_status_text       3804 non-null   object \n",
            " 7   username               7958 non-null   object \n",
            " 8   comp_date              3371 non-null   object \n",
            " 9   comp_location          7038 non-null   object \n",
            " 10  comp_status            0 non-null      float64\n",
            "dtypes: float64(1), object(10)\n",
            "memory usage: 746.1+ KB\n"
          ],
          "name": "stdout"
        }
      ]
    },
    {
      "cell_type": "code",
      "metadata": {
        "colab": {
          "base_uri": "https://localhost:8080/"
        },
        "id": "4v6tlSx3do3d",
        "outputId": "c9470a2a-a732-4362-a337-f57e1499d937"
      },
      "source": [
        "df.info()"
      ],
      "execution_count": null,
      "outputs": [
        {
          "output_type": "stream",
          "text": [
            "<class 'pandas.core.frame.DataFrame'>\n",
            "Int64Index: 14598 entries, 0 to 14604\n",
            "Data columns (total 11 columns):\n",
            " #   Column                 Non-Null Count  Dtype \n",
            "---  ------                 --------------  ----- \n",
            " 0   web-scraper-order      14598 non-null  object\n",
            " 1   web-scraper-start-url  14598 non-null  object\n",
            " 2   compl_title            14598 non-null  object\n",
            " 3   link_title-href        14598 non-null  object\n",
            " 4   comp_detail            14598 non-null  object\n",
            " 5   update_date            11473 non-null  object\n",
            " 6   comp_status_text       5960 non-null   object\n",
            " 7   username               14598 non-null  object\n",
            " 8   comp_date              4596 non-null   object\n",
            " 9   comp_location          13064 non-null  object\n",
            " 10  comp_status            2104 non-null   object\n",
            "dtypes: object(11)\n",
            "memory usage: 1.3+ MB\n"
          ],
          "name": "stdout"
        }
      ]
    },
    {
      "cell_type": "code",
      "metadata": {
        "colab": {
          "base_uri": "https://localhost:8080/"
        },
        "id": "gZ4h4EHveLdi",
        "outputId": "40fd35f5-27ff-4a18-c50a-c48d5a144f77"
      },
      "source": [
        "drive.mount('/drive')"
      ],
      "execution_count": null,
      "outputs": [
        {
          "output_type": "stream",
          "text": [
            "Mounted at /drive\n"
          ],
          "name": "stdout"
        }
      ]
    },
    {
      "cell_type": "code",
      "metadata": {
        "id": "HuMIjdMJeP-a"
      },
      "source": [
        "df.to_csv('/drive/My Drive/bsnl_merge.csv')"
      ],
      "execution_count": null,
      "outputs": []
    }
  ]
}