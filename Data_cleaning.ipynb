{
  "nbformat": 4,
  "nbformat_minor": 0,
  "metadata": {
    "colab": {
      "name": "Data_cleaning.ipynb",
      "provenance": [],
      "collapsed_sections": [],
      "include_colab_link": true
    },
    "kernelspec": {
      "name": "python3",
      "display_name": "Python 3"
    },
    "language_info": {
      "name": "python"
    }
  },
  "cells": [
    {
      "cell_type": "markdown",
      "metadata": {
        "id": "view-in-github",
        "colab_type": "text"
      },
      "source": [
        "<a href=\"https://colab.research.google.com/github/Siddhi-Takawade/NLP-Consumer-complaints/blob/main/Data_cleaning.ipynb\" target=\"_parent\"><img src=\"https://colab.research.google.com/assets/colab-badge.svg\" alt=\"Open In Colab\"/></a>"
      ]
    },
    {
      "cell_type": "markdown",
      "metadata": {
        "id": "SMhqz1Ra3PuD"
      },
      "source": [
        "Filename    : Data_cleaning.ipynb \n"
      ]
    },
    {
      "cell_type": "markdown",
      "metadata": {
        "id": "P4BwnfdC4zDT"
      },
      "source": [
        "Disclaimer  : Check the column names before running the code.\n"
      ]
    },
    {
      "cell_type": "markdown",
      "metadata": {
        "id": "TK6OcVog42xf"
      },
      "source": [
        "Description : Functions to identify and remove duplicate values, format date and other columns for data from the site - www.consumercomplaints.in."
      ]
    },
    {
      "cell_type": "code",
      "metadata": {
        "id": "5mv2IdgCRl3w"
      },
      "source": [
        "#installing datetime\n",
        "%%capture\n",
        "!pip install datetime"
      ],
      "execution_count": null,
      "outputs": []
    },
    {
      "cell_type": "code",
      "metadata": {
        "id": "innqhzPUPrne"
      },
      "source": [
        "import pandas as pd\n",
        "import numpy as np\n",
        "from datetime import datetime"
      ],
      "execution_count": null,
      "outputs": []
    },
    {
      "cell_type": "code",
      "metadata": {
        "colab": {
          "base_uri": "https://localhost:8080/"
        },
        "id": "XfaZWs7mP46h",
        "outputId": "85177b27-719f-4e71-ca96-dae6661f2dbb"
      },
      "source": [
        "from google.colab import drive\n",
        "drive.mount('/content/drive')"
      ],
      "execution_count": null,
      "outputs": [
        {
          "output_type": "stream",
          "text": [
            "Mounted at /content/drive\n"
          ],
          "name": "stdout"
        }
      ]
    },
    {
      "cell_type": "code",
      "metadata": {
        "id": "TLN6VqqhIwSw"
      },
      "source": [
        "df = pd.read_csv(\"/content/drive/MyDrive/Wids/bsnl_merge.csv\")"
      ],
      "execution_count": null,
      "outputs": []
    },
    {
      "cell_type": "code",
      "metadata": {
        "colab": {
          "base_uri": "https://localhost:8080/",
          "height": 626
        },
        "id": "G_x1Bm-bI8nS",
        "outputId": "65482846-f506-4ed6-f2fc-f329874cf5d9"
      },
      "source": [
        "df.head(5)"
      ],
      "execution_count": null,
      "outputs": [
        {
          "output_type": "execute_result",
          "data": {
            "text/html": [
              "<div>\n",
              "<style scoped>\n",
              "    .dataframe tbody tr th:only-of-type {\n",
              "        vertical-align: middle;\n",
              "    }\n",
              "\n",
              "    .dataframe tbody tr th {\n",
              "        vertical-align: top;\n",
              "    }\n",
              "\n",
              "    .dataframe thead th {\n",
              "        text-align: right;\n",
              "    }\n",
              "</style>\n",
              "<table border=\"1\" class=\"dataframe\">\n",
              "  <thead>\n",
              "    <tr style=\"text-align: right;\">\n",
              "      <th></th>\n",
              "      <th>Unnamed: 0</th>\n",
              "      <th>web-scraper-order</th>\n",
              "      <th>web-scraper-start-url</th>\n",
              "      <th>compl_title</th>\n",
              "      <th>link_title-href</th>\n",
              "      <th>comp_detail</th>\n",
              "      <th>update_date</th>\n",
              "      <th>comp_status_text</th>\n",
              "      <th>username</th>\n",
              "      <th>comp_date</th>\n",
              "      <th>comp_location</th>\n",
              "      <th>comp_status</th>\n",
              "    </tr>\n",
              "  </thead>\n",
              "  <tbody>\n",
              "    <tr>\n",
              "      <th>0</th>\n",
              "      <td>0</td>\n",
              "      <td>1623825574-391</td>\n",
              "      <td>https://www.consumercomplaints.in/bharat-sanch...</td>\n",
              "      <td>BSNL Dataone —\\nbroadband connecting problem</td>\n",
              "      <td>https://www.consumercomplaints.in/complaints/b...</td>\n",
              "      <td>hai\\n\\niam using broad band services since one...</td>\n",
              "      <td>NaN</td>\n",
              "      <td>NaN</td>\n",
              "      <td>chintala srinivas rao</td>\n",
              "      <td>NaN</td>\n",
              "      <td>Vellore, Tamil Nadu</td>\n",
              "      <td>NaN</td>\n",
              "    </tr>\n",
              "    <tr>\n",
              "      <th>1</th>\n",
              "      <td>1</td>\n",
              "      <td>1623847234-5990</td>\n",
              "      <td>https://www.consumercomplaints.in/bharat-sanch...</td>\n",
              "      <td>Bharat Sanchar Nigam [BSNL] —\\ndata service in...</td>\n",
              "      <td>https://www.consumercomplaints.in/bharat-sanch...</td>\n",
              "      <td>I recharged with 429 rupee plan for 3.2 gb per...</td>\n",
              "      <td>Oct 08, 2019</td>\n",
              "      <td>Bharat Sanchar Nigam [BSNL] customer support h...</td>\n",
              "      <td>its GauRAV</td>\n",
              "      <td>Oct 8, 2019</td>\n",
              "      <td>Mathura, Uttar Pradesh</td>\n",
              "      <td>NaN</td>\n",
              "    </tr>\n",
              "    <tr>\n",
              "      <th>2</th>\n",
              "      <td>2</td>\n",
              "      <td>1623841539-4219</td>\n",
              "      <td>https://www.consumercomplaints.in/bharat-sanch...</td>\n",
              "      <td>BSNL —\\nMore than 3 times I received the chann...</td>\n",
              "      <td>https://www.consumercomplaints.in/bsnl-more-th...</td>\n",
              "      <td>More than 3 times I received the channel renew...</td>\n",
              "      <td>Mar 19, 2014</td>\n",
              "      <td>Bharat Sanchar Nigam [BSNL] customer support h...</td>\n",
              "      <td>megh_prince</td>\n",
              "      <td>NaN</td>\n",
              "      <td>Mumbai, Maharashtra</td>\n",
              "      <td>NaN</td>\n",
              "    </tr>\n",
              "    <tr>\n",
              "      <th>3</th>\n",
              "      <td>3</td>\n",
              "      <td>1623825533-376</td>\n",
              "      <td>https://www.consumercomplaints.in/bharat-sanch...</td>\n",
              "      <td>BSNL Broadband —\\nNOT GETTING USAGE DETAILS</td>\n",
              "      <td>https://www.consumercomplaints.in/complaints/b...</td>\n",
              "      <td>i am getting my user name/password as invalid ...</td>\n",
              "      <td>Aug 14, 2020</td>\n",
              "      <td>NaN</td>\n",
              "      <td>Abhishek kumar</td>\n",
              "      <td>NaN</td>\n",
              "      <td>Sikar, Rajasthan</td>\n",
              "      <td>[Resolved]</td>\n",
              "    </tr>\n",
              "    <tr>\n",
              "      <th>4</th>\n",
              "      <td>4</td>\n",
              "      <td>1623834784-2028</td>\n",
              "      <td>https://www.consumercomplaints.in/bharat-sanch...</td>\n",
              "      <td>BSNL Games on Demand —\\ndeactivate programme</td>\n",
              "      <td>https://www.consumercomplaints.in/complaints/b...</td>\n",
              "      <td>my name is myrna pereira and my number is[prot...</td>\n",
              "      <td>Aug 13, 2020</td>\n",
              "      <td>NaN</td>\n",
              "      <td>myrnapereira</td>\n",
              "      <td>NaN</td>\n",
              "      <td>Chennai, Tamil Nadu</td>\n",
              "      <td>[Resolved]</td>\n",
              "    </tr>\n",
              "  </tbody>\n",
              "</table>\n",
              "</div>"
            ],
            "text/plain": [
              "   Unnamed: 0 web-scraper-order  ...           comp_location comp_status\n",
              "0           0    1623825574-391  ...     Vellore, Tamil Nadu         NaN\n",
              "1           1   1623847234-5990  ...  Mathura, Uttar Pradesh         NaN\n",
              "2           2   1623841539-4219  ...     Mumbai, Maharashtra         NaN\n",
              "3           3    1623825533-376  ...        Sikar, Rajasthan  [Resolved]\n",
              "4           4   1623834784-2028  ...     Chennai, Tamil Nadu  [Resolved]\n",
              "\n",
              "[5 rows x 12 columns]"
            ]
          },
          "metadata": {
            "tags": []
          },
          "execution_count": 5
        }
      ]
    },
    {
      "cell_type": "code",
      "metadata": {
        "colab": {
          "base_uri": "https://localhost:8080/"
        },
        "id": "o5TcgUtWr0N6",
        "outputId": "85edb26e-563f-445e-e9d4-3b54e34b323b"
      },
      "source": [
        "df.shape"
      ],
      "execution_count": null,
      "outputs": [
        {
          "output_type": "execute_result",
          "data": {
            "text/plain": [
              "(14598, 12)"
            ]
          },
          "metadata": {
            "tags": []
          },
          "execution_count": 6
        }
      ]
    },
    {
      "cell_type": "code",
      "metadata": {
        "colab": {
          "base_uri": "https://localhost:8080/"
        },
        "id": "fyT_vDSKr4eA",
        "outputId": "2efe30ae-cfd8-4c11-96a6-5cea7d718ac3"
      },
      "source": [
        "df.info()"
      ],
      "execution_count": null,
      "outputs": [
        {
          "output_type": "stream",
          "text": [
            "<class 'pandas.core.frame.DataFrame'>\n",
            "RangeIndex: 14598 entries, 0 to 14597\n",
            "Data columns (total 12 columns):\n",
            " #   Column                 Non-Null Count  Dtype \n",
            "---  ------                 --------------  ----- \n",
            " 0   Unnamed: 0             14598 non-null  int64 \n",
            " 1   web-scraper-order      14598 non-null  object\n",
            " 2   web-scraper-start-url  14598 non-null  object\n",
            " 3   compl_title            14598 non-null  object\n",
            " 4   link_title-href        6640 non-null   object\n",
            " 5   comp_detail            14598 non-null  object\n",
            " 6   update_date            11473 non-null  object\n",
            " 7   comp_status_text       5960 non-null   object\n",
            " 8   username               14598 non-null  object\n",
            " 9   comp_date              4596 non-null   object\n",
            " 10  comp_location          13064 non-null  object\n",
            " 11  comp_status            2104 non-null   object\n",
            "dtypes: int64(1), object(11)\n",
            "memory usage: 1.3+ MB\n"
          ],
          "name": "stdout"
        }
      ]
    },
    {
      "cell_type": "markdown",
      "metadata": {
        "id": "tkAB5785QeV0"
      },
      "source": [
        "# For checking duplicate rows:"
      ]
    },
    {
      "cell_type": "code",
      "metadata": {
        "id": "rbEV-jqoQP4b"
      },
      "source": [
        "#This function checks for duplicate rows and deletes them\n",
        "def duplicate_check(df):\n",
        "  duplicate = df[df.duplicated()]\n",
        "  if duplicate.empty==False:\n",
        "    df=df.drop_duplicates()\n",
        "  return df\n"
      ],
      "execution_count": null,
      "outputs": []
    },
    {
      "cell_type": "markdown",
      "metadata": {
        "id": "7XfwZdEKQ0Dm"
      },
      "source": [
        "# For replacing NaN by 'Not Resolved':"
      ]
    },
    {
      "cell_type": "code",
      "metadata": {
        "id": "SUhtGUv_Q_qy"
      },
      "source": [
        "def not_resolved(df):\n",
        "  df['comp_status'] = df['comp_status'].replace(np.nan, 'Not Resolved')\n",
        "  return df\n",
        "  "
      ],
      "execution_count": null,
      "outputs": []
    },
    {
      "cell_type": "markdown",
      "metadata": {
        "id": "647R_mwGRzKx"
      },
      "source": [
        "# For splitting comp_location into City and State :"
      ]
    },
    {
      "cell_type": "code",
      "metadata": {
        "id": "vhWVLBfqR9Rf"
      },
      "source": [
        "#Splitting done on basis of ','\n",
        "def location(df):\n",
        "  df[['City','State']] = df.comp_location.str.split(\",\",1,expand=True)\n",
        "  return df\n"
      ],
      "execution_count": null,
      "outputs": []
    },
    {
      "cell_type": "markdown",
      "metadata": {
        "id": "9MCQ7TAdSKn9"
      },
      "source": [
        "# For splitting compl_title into Company Name and Title:"
      ]
    },
    {
      "cell_type": "code",
      "metadata": {
        "id": "E0m2120vSRav"
      },
      "source": [
        "#Splitting done on basis of '\\n'\n",
        "def name_title_split(df,):\n",
        "  df[['Comp Name','title']] = df.compl_title.str.split(\"\\n\",1,expand=True)\n",
        "  df['Company Name'] = df['Comp Name'].str[:-1]\n",
        "  #df=df.drop(['Comp Name'], axis = 1)\n",
        "  return df\n",
        "\n"
      ],
      "execution_count": null,
      "outputs": []
    },
    {
      "cell_type": "markdown",
      "metadata": {
        "id": "TcyqmMgRS8cD"
      },
      "source": [
        "# For converting into date format:"
      ]
    },
    {
      "cell_type": "code",
      "metadata": {
        "id": "Ue_aiR0Oa7Y2"
      },
      "source": [
        "def convert_date(d):\n",
        "  months_dict={'Jan':'01', 'Feb':'02', 'Mar':'03', 'Apr':'04', 'May':'05', 'Jun':'06', 'Jul':'07', 'Aug':'08', 'Sep':'09', 'Oct':'10', 'Nov':'11', 'Dec':'12'}\n",
        "  a=str(d)\n",
        "  mylist=a.split()\n",
        "  if len(mylist)==3:\n",
        "    mm=mylist[0]\n",
        "    dd=mylist[1]\n",
        "    yyyy=mylist[2]\n",
        "    dd=dd[:-1]\n",
        "    mm=months_dict[mm]\n",
        "    final_date=dd+'-'+mm+'-'+yyyy\n",
        "    return final_date\n",
        " \n"
      ],
      "execution_count": null,
      "outputs": []
    },
    {
      "cell_type": "markdown",
      "metadata": {
        "id": "x7o3Kzebh-H6"
      },
      "source": [
        "# All Functions:"
      ]
    },
    {
      "cell_type": "code",
      "metadata": {
        "id": "yKdbxXeciHUk"
      },
      "source": [
        "def cleaning_dataset(filename):\n",
        "  try:\n",
        "    path =\"/content/drive/MyDrive/Wids/\"+filename\n",
        "    df=pd.read_csv(path)\n",
        "    duplicate_check(df)\n",
        "    not_resolved(df)\n",
        "    location(df)\n",
        "    name_title_split(df)\n",
        "    df=df.drop(['Comp Name'], axis = 1)\n",
        "    df['complaint_date_changed'] = df.apply(lambda row : convert_date(row['comp_date']), axis = 1)\n",
        "    df['complaint_date_changed'] = pd.to_datetime(df.complaint_date_changed)\n",
        "    df['complaint_date_changed'] = df['complaint_date_changed'].dt.strftime('%d-%m-%Y')\n",
        "    df['Update_date_changed'] = df.apply(lambda row : convert_date(row['update_date']), axis = 1)\n",
        "    df['Update_date_changed'] = pd.to_datetime(df.Update_date_changed, errors='coerce')\n",
        "    df['Update_date_changed'] = df['Update_date_changed'].dt.strftime('%d-%m-%Y')\n",
        "    return df.to_csv(\"bsnl_merged_cleaned.csv\")\n",
        "  except:\n",
        "    return(\"File not found on Drive\")"
      ],
      "execution_count": null,
      "outputs": []
    },
    {
      "cell_type": "code",
      "metadata": {
        "id": "e0YCI3-tjjbR"
      },
      "source": [
        "cleaning_dataset('bsnl_merge.csv')"
      ],
      "execution_count": null,
      "outputs": []
    },
    {
      "cell_type": "code",
      "metadata": {
        "colab": {
          "base_uri": "https://localhost:8080/",
          "height": 626
        },
        "id": "WkS_R_X8KCEJ",
        "outputId": "19a464a7-b7dd-4635-886c-5fc22838587b"
      },
      "source": [
        "df.head(5)"
      ],
      "execution_count": null,
      "outputs": [
        {
          "output_type": "execute_result",
          "data": {
            "text/html": [
              "<div>\n",
              "<style scoped>\n",
              "    .dataframe tbody tr th:only-of-type {\n",
              "        vertical-align: middle;\n",
              "    }\n",
              "\n",
              "    .dataframe tbody tr th {\n",
              "        vertical-align: top;\n",
              "    }\n",
              "\n",
              "    .dataframe thead th {\n",
              "        text-align: right;\n",
              "    }\n",
              "</style>\n",
              "<table border=\"1\" class=\"dataframe\">\n",
              "  <thead>\n",
              "    <tr style=\"text-align: right;\">\n",
              "      <th></th>\n",
              "      <th>Unnamed: 0</th>\n",
              "      <th>web-scraper-order</th>\n",
              "      <th>web-scraper-start-url</th>\n",
              "      <th>compl_title</th>\n",
              "      <th>link_title-href</th>\n",
              "      <th>comp_detail</th>\n",
              "      <th>update_date</th>\n",
              "      <th>comp_status_text</th>\n",
              "      <th>username</th>\n",
              "      <th>comp_date</th>\n",
              "      <th>comp_location</th>\n",
              "      <th>comp_status</th>\n",
              "    </tr>\n",
              "  </thead>\n",
              "  <tbody>\n",
              "    <tr>\n",
              "      <th>0</th>\n",
              "      <td>0</td>\n",
              "      <td>1623825574-391</td>\n",
              "      <td>https://www.consumercomplaints.in/bharat-sanch...</td>\n",
              "      <td>BSNL Dataone —\\nbroadband connecting problem</td>\n",
              "      <td>https://www.consumercomplaints.in/complaints/b...</td>\n",
              "      <td>hai\\n\\niam using broad band services since one...</td>\n",
              "      <td>NaN</td>\n",
              "      <td>NaN</td>\n",
              "      <td>chintala srinivas rao</td>\n",
              "      <td>NaN</td>\n",
              "      <td>Vellore, Tamil Nadu</td>\n",
              "      <td>NaN</td>\n",
              "    </tr>\n",
              "    <tr>\n",
              "      <th>1</th>\n",
              "      <td>1</td>\n",
              "      <td>1623847234-5990</td>\n",
              "      <td>https://www.consumercomplaints.in/bharat-sanch...</td>\n",
              "      <td>Bharat Sanchar Nigam [BSNL] —\\ndata service in...</td>\n",
              "      <td>https://www.consumercomplaints.in/bharat-sanch...</td>\n",
              "      <td>I recharged with 429 rupee plan for 3.2 gb per...</td>\n",
              "      <td>Oct 08, 2019</td>\n",
              "      <td>Bharat Sanchar Nigam [BSNL] customer support h...</td>\n",
              "      <td>its GauRAV</td>\n",
              "      <td>Oct 8, 2019</td>\n",
              "      <td>Mathura, Uttar Pradesh</td>\n",
              "      <td>NaN</td>\n",
              "    </tr>\n",
              "    <tr>\n",
              "      <th>2</th>\n",
              "      <td>2</td>\n",
              "      <td>1623841539-4219</td>\n",
              "      <td>https://www.consumercomplaints.in/bharat-sanch...</td>\n",
              "      <td>BSNL —\\nMore than 3 times I received the chann...</td>\n",
              "      <td>https://www.consumercomplaints.in/bsnl-more-th...</td>\n",
              "      <td>More than 3 times I received the channel renew...</td>\n",
              "      <td>Mar 19, 2014</td>\n",
              "      <td>Bharat Sanchar Nigam [BSNL] customer support h...</td>\n",
              "      <td>megh_prince</td>\n",
              "      <td>NaN</td>\n",
              "      <td>Mumbai, Maharashtra</td>\n",
              "      <td>NaN</td>\n",
              "    </tr>\n",
              "    <tr>\n",
              "      <th>3</th>\n",
              "      <td>3</td>\n",
              "      <td>1623825533-376</td>\n",
              "      <td>https://www.consumercomplaints.in/bharat-sanch...</td>\n",
              "      <td>BSNL Broadband —\\nNOT GETTING USAGE DETAILS</td>\n",
              "      <td>https://www.consumercomplaints.in/complaints/b...</td>\n",
              "      <td>i am getting my user name/password as invalid ...</td>\n",
              "      <td>Aug 14, 2020</td>\n",
              "      <td>NaN</td>\n",
              "      <td>Abhishek kumar</td>\n",
              "      <td>NaN</td>\n",
              "      <td>Sikar, Rajasthan</td>\n",
              "      <td>[Resolved]</td>\n",
              "    </tr>\n",
              "    <tr>\n",
              "      <th>4</th>\n",
              "      <td>4</td>\n",
              "      <td>1623834784-2028</td>\n",
              "      <td>https://www.consumercomplaints.in/bharat-sanch...</td>\n",
              "      <td>BSNL Games on Demand —\\ndeactivate programme</td>\n",
              "      <td>https://www.consumercomplaints.in/complaints/b...</td>\n",
              "      <td>my name is myrna pereira and my number is[prot...</td>\n",
              "      <td>Aug 13, 2020</td>\n",
              "      <td>NaN</td>\n",
              "      <td>myrnapereira</td>\n",
              "      <td>NaN</td>\n",
              "      <td>Chennai, Tamil Nadu</td>\n",
              "      <td>[Resolved]</td>\n",
              "    </tr>\n",
              "  </tbody>\n",
              "</table>\n",
              "</div>"
            ],
            "text/plain": [
              "   Unnamed: 0 web-scraper-order  ...           comp_location comp_status\n",
              "0           0    1623825574-391  ...     Vellore, Tamil Nadu         NaN\n",
              "1           1   1623847234-5990  ...  Mathura, Uttar Pradesh         NaN\n",
              "2           2   1623841539-4219  ...     Mumbai, Maharashtra         NaN\n",
              "3           3    1623825533-376  ...        Sikar, Rajasthan  [Resolved]\n",
              "4           4   1623834784-2028  ...     Chennai, Tamil Nadu  [Resolved]\n",
              "\n",
              "[5 rows x 12 columns]"
            ]
          },
          "metadata": {
            "tags": []
          },
          "execution_count": 31
        }
      ]
    },
    {
      "cell_type": "code",
      "metadata": {
        "colab": {
          "base_uri": "https://localhost:8080/"
        },
        "id": "AVwiy3f0KHPE",
        "outputId": "c91b8c7d-d0b6-4a9f-adb5-51cad4fb97d7"
      },
      "source": [
        "df.shape"
      ],
      "execution_count": null,
      "outputs": [
        {
          "output_type": "execute_result",
          "data": {
            "text/plain": [
              "(14598, 12)"
            ]
          },
          "metadata": {
            "tags": []
          },
          "execution_count": 32
        }
      ]
    },
    {
      "cell_type": "code",
      "metadata": {
        "id": "4tk3AovRLLVZ",
        "colab": {
          "base_uri": "https://localhost:8080/"
        },
        "outputId": "209988a7-f61a-425a-e62b-f587bc8c5aeb"
      },
      "source": [
        "cleaned_df = pd.read_csv(\"/content/bsnl_merged_cleaned.csv\")\n",
        "cleaned_df.info()"
      ],
      "execution_count": null,
      "outputs": [
        {
          "output_type": "stream",
          "text": [
            "<class 'pandas.core.frame.DataFrame'>\n",
            "RangeIndex: 14598 entries, 0 to 14597\n",
            "Data columns (total 19 columns):\n",
            " #   Column                  Non-Null Count  Dtype \n",
            "---  ------                  --------------  ----- \n",
            " 0   Unnamed: 0              14598 non-null  int64 \n",
            " 1   Unnamed: 0.1            14598 non-null  int64 \n",
            " 2   web-scraper-order       14598 non-null  object\n",
            " 3   web-scraper-start-url   14598 non-null  object\n",
            " 4   compl_title             14598 non-null  object\n",
            " 5   link_title-href         6640 non-null   object\n",
            " 6   comp_detail             14598 non-null  object\n",
            " 7   update_date             11473 non-null  object\n",
            " 8   comp_status_text        5960 non-null   object\n",
            " 9   username                14598 non-null  object\n",
            " 10  comp_date               4596 non-null   object\n",
            " 11  comp_location           13064 non-null  object\n",
            " 12  comp_status             14598 non-null  object\n",
            " 13  City                    13064 non-null  object\n",
            " 14  State                   13064 non-null  object\n",
            " 15  title                   14598 non-null  object\n",
            " 16  Company Name            14598 non-null  object\n",
            " 17  complaint_date_changed  4596 non-null   object\n",
            " 18  Update_date_changed     11473 non-null  object\n",
            "dtypes: int64(2), object(17)\n",
            "memory usage: 2.1+ MB\n"
          ],
          "name": "stdout"
        }
      ]
    },
    {
      "cell_type": "code",
      "metadata": {
        "colab": {
          "base_uri": "https://localhost:8080/"
        },
        "id": "BRcGB1HN6Qzj",
        "outputId": "6be3e450-1883-4cb0-c50d-daf460dd368c"
      },
      "source": [
        "cleaned_df['Update_date_changed'] = pd.to_datetime(cleaned_df['update_date'], errors='coerce').dt.strftime('%d-%m-%Y')\n",
        "cleaned_df['Update_date_changed'].head(5)"
      ],
      "execution_count": null,
      "outputs": [
        {
          "output_type": "execute_result",
          "data": {
            "text/plain": [
              "0           NaN\n",
              "1    08-10-2019\n",
              "2    19-03-2014\n",
              "3    14-08-2020\n",
              "4    13-08-2020\n",
              "Name: Update_date_changed, dtype: object"
            ]
          },
          "metadata": {
            "tags": []
          },
          "execution_count": 34
        }
      ]
    },
    {
      "cell_type": "code",
      "metadata": {
        "colab": {
          "base_uri": "https://localhost:8080/"
        },
        "id": "IVLjirlv6q3Z",
        "outputId": "96e71656-57b6-45cf-eab9-7b8be64dc658"
      },
      "source": [
        "cleaned_df['complaint_date_changed'] = pd.to_datetime(cleaned_df['comp_date'], errors='coerce').dt.strftime('%d-%m-%Y')\n",
        "cleaned_df['complaint_date_changed'].head(5)"
      ],
      "execution_count": null,
      "outputs": [
        {
          "output_type": "execute_result",
          "data": {
            "text/plain": [
              "0           NaN\n",
              "1    08-10-2019\n",
              "2           NaN\n",
              "3           NaN\n",
              "4           NaN\n",
              "Name: complaint_date_changed, dtype: object"
            ]
          },
          "metadata": {
            "tags": []
          },
          "execution_count": 35
        }
      ]
    },
    {
      "cell_type": "code",
      "metadata": {
        "colab": {
          "base_uri": "https://localhost:8080/",
          "height": 545
        },
        "id": "-hY4mKo9rer0",
        "outputId": "53503ff7-9df4-4b2a-9ce3-aab3ba3d4266"
      },
      "source": [
        "cleaned_df.head(4)"
      ],
      "execution_count": null,
      "outputs": [
        {
          "output_type": "execute_result",
          "data": {
            "text/html": [
              "<div>\n",
              "<style scoped>\n",
              "    .dataframe tbody tr th:only-of-type {\n",
              "        vertical-align: middle;\n",
              "    }\n",
              "\n",
              "    .dataframe tbody tr th {\n",
              "        vertical-align: top;\n",
              "    }\n",
              "\n",
              "    .dataframe thead th {\n",
              "        text-align: right;\n",
              "    }\n",
              "</style>\n",
              "<table border=\"1\" class=\"dataframe\">\n",
              "  <thead>\n",
              "    <tr style=\"text-align: right;\">\n",
              "      <th></th>\n",
              "      <th>Unnamed: 0</th>\n",
              "      <th>Unnamed: 0.1</th>\n",
              "      <th>web-scraper-order</th>\n",
              "      <th>web-scraper-start-url</th>\n",
              "      <th>compl_title</th>\n",
              "      <th>link_title-href</th>\n",
              "      <th>comp_detail</th>\n",
              "      <th>update_date</th>\n",
              "      <th>comp_status_text</th>\n",
              "      <th>username</th>\n",
              "      <th>comp_date</th>\n",
              "      <th>comp_location</th>\n",
              "      <th>comp_status</th>\n",
              "      <th>City</th>\n",
              "      <th>State</th>\n",
              "      <th>title</th>\n",
              "      <th>Company Name</th>\n",
              "      <th>complaint_date_changed</th>\n",
              "      <th>Update_date_changed</th>\n",
              "    </tr>\n",
              "  </thead>\n",
              "  <tbody>\n",
              "    <tr>\n",
              "      <th>0</th>\n",
              "      <td>0</td>\n",
              "      <td>0</td>\n",
              "      <td>1623825574-391</td>\n",
              "      <td>https://www.consumercomplaints.in/bharat-sanch...</td>\n",
              "      <td>BSNL Dataone —\\nbroadband connecting problem</td>\n",
              "      <td>https://www.consumercomplaints.in/complaints/b...</td>\n",
              "      <td>hai\\n\\niam using broad band services since one...</td>\n",
              "      <td>NaN</td>\n",
              "      <td>NaN</td>\n",
              "      <td>chintala srinivas rao</td>\n",
              "      <td>NaN</td>\n",
              "      <td>Vellore, Tamil Nadu</td>\n",
              "      <td>Not Resolved</td>\n",
              "      <td>Vellore</td>\n",
              "      <td>Tamil Nadu</td>\n",
              "      <td>broadband connecting problem</td>\n",
              "      <td>BSNL Dataone</td>\n",
              "      <td>NaN</td>\n",
              "      <td>NaN</td>\n",
              "    </tr>\n",
              "    <tr>\n",
              "      <th>1</th>\n",
              "      <td>1</td>\n",
              "      <td>1</td>\n",
              "      <td>1623847234-5990</td>\n",
              "      <td>https://www.consumercomplaints.in/bharat-sanch...</td>\n",
              "      <td>Bharat Sanchar Nigam [BSNL] —\\ndata service in...</td>\n",
              "      <td>https://www.consumercomplaints.in/bharat-sanch...</td>\n",
              "      <td>I recharged with 429 rupee plan for 3.2 gb per...</td>\n",
              "      <td>Oct 08, 2019</td>\n",
              "      <td>Bharat Sanchar Nigam [BSNL] customer support h...</td>\n",
              "      <td>its GauRAV</td>\n",
              "      <td>Oct 8, 2019</td>\n",
              "      <td>Mathura, Uttar Pradesh</td>\n",
              "      <td>Not Resolved</td>\n",
              "      <td>Mathura</td>\n",
              "      <td>Uttar Pradesh</td>\n",
              "      <td>data service in bsnl 3g sim</td>\n",
              "      <td>Bharat Sanchar Nigam [BSNL]</td>\n",
              "      <td>08-10-2019</td>\n",
              "      <td>08-10-2019</td>\n",
              "    </tr>\n",
              "    <tr>\n",
              "      <th>2</th>\n",
              "      <td>2</td>\n",
              "      <td>2</td>\n",
              "      <td>1623841539-4219</td>\n",
              "      <td>https://www.consumercomplaints.in/bharat-sanch...</td>\n",
              "      <td>BSNL —\\nMore than 3 times I received the chann...</td>\n",
              "      <td>https://www.consumercomplaints.in/bsnl-more-th...</td>\n",
              "      <td>More than 3 times I received the channel renew...</td>\n",
              "      <td>Mar 19, 2014</td>\n",
              "      <td>Bharat Sanchar Nigam [BSNL] customer support h...</td>\n",
              "      <td>megh_prince</td>\n",
              "      <td>NaN</td>\n",
              "      <td>Mumbai, Maharashtra</td>\n",
              "      <td>Not Resolved</td>\n",
              "      <td>Mumbai</td>\n",
              "      <td>Maharashtra</td>\n",
              "      <td>More than 3 times I received the channel renew...</td>\n",
              "      <td>BSNL</td>\n",
              "      <td>NaN</td>\n",
              "      <td>19-03-2014</td>\n",
              "    </tr>\n",
              "    <tr>\n",
              "      <th>3</th>\n",
              "      <td>3</td>\n",
              "      <td>3</td>\n",
              "      <td>1623825533-376</td>\n",
              "      <td>https://www.consumercomplaints.in/bharat-sanch...</td>\n",
              "      <td>BSNL Broadband —\\nNOT GETTING USAGE DETAILS</td>\n",
              "      <td>https://www.consumercomplaints.in/complaints/b...</td>\n",
              "      <td>i am getting my user name/password as invalid ...</td>\n",
              "      <td>Aug 14, 2020</td>\n",
              "      <td>NaN</td>\n",
              "      <td>Abhishek kumar</td>\n",
              "      <td>NaN</td>\n",
              "      <td>Sikar, Rajasthan</td>\n",
              "      <td>[Resolved]</td>\n",
              "      <td>Sikar</td>\n",
              "      <td>Rajasthan</td>\n",
              "      <td>NOT GETTING USAGE DETAILS</td>\n",
              "      <td>BSNL Broadband</td>\n",
              "      <td>NaN</td>\n",
              "      <td>14-08-2020</td>\n",
              "    </tr>\n",
              "  </tbody>\n",
              "</table>\n",
              "</div>"
            ],
            "text/plain": [
              "   Unnamed: 0  Unnamed: 0.1  ... complaint_date_changed Update_date_changed\n",
              "0           0             0  ...                    NaN                 NaN\n",
              "1           1             1  ...             08-10-2019          08-10-2019\n",
              "2           2             2  ...                    NaN          19-03-2014\n",
              "3           3             3  ...                    NaN          14-08-2020\n",
              "\n",
              "[4 rows x 19 columns]"
            ]
          },
          "metadata": {
            "tags": []
          },
          "execution_count": 36
        }
      ]
    },
    {
      "cell_type": "code",
      "metadata": {
        "colab": {
          "base_uri": "https://localhost:8080/"
        },
        "id": "oj7RH-kQc3Rc",
        "outputId": "b441339f-85f9-4124-e8b8-612f90949f92"
      },
      "source": [
        "rslt_df = cleaned_df.drop(cleaned_df.iloc[:, 0:2], axis = 1)\n",
        "rslt_df.info()"
      ],
      "execution_count": null,
      "outputs": [
        {
          "output_type": "stream",
          "text": [
            "<class 'pandas.core.frame.DataFrame'>\n",
            "RangeIndex: 14598 entries, 0 to 14597\n",
            "Data columns (total 17 columns):\n",
            " #   Column                  Non-Null Count  Dtype \n",
            "---  ------                  --------------  ----- \n",
            " 0   web-scraper-order       14598 non-null  object\n",
            " 1   web-scraper-start-url   14598 non-null  object\n",
            " 2   compl_title             14598 non-null  object\n",
            " 3   link_title-href         6640 non-null   object\n",
            " 4   comp_detail             14598 non-null  object\n",
            " 5   update_date             11473 non-null  object\n",
            " 6   comp_status_text        5960 non-null   object\n",
            " 7   username                14598 non-null  object\n",
            " 8   comp_date               4596 non-null   object\n",
            " 9   comp_location           13064 non-null  object\n",
            " 10  comp_status             14598 non-null  object\n",
            " 11  City                    13064 non-null  object\n",
            " 12  State                   13064 non-null  object\n",
            " 13  title                   14598 non-null  object\n",
            " 14  Company Name            14598 non-null  object\n",
            " 15  complaint_date_changed  4596 non-null   object\n",
            " 16  Update_date_changed     11473 non-null  object\n",
            "dtypes: object(17)\n",
            "memory usage: 1.9+ MB\n"
          ],
          "name": "stdout"
        }
      ]
    },
    {
      "cell_type": "code",
      "metadata": {
        "id": "jPXAfeVkdSvk"
      },
      "source": [
        "rslt_df.to_csv(\"/content/bsnl_merged_cleaned.csv\")"
      ],
      "execution_count": null,
      "outputs": []
    },
    {
      "cell_type": "code",
      "metadata": {
        "id": "6EsQtDTJdmCw"
      },
      "source": [
        ""
      ],
      "execution_count": null,
      "outputs": []
    }
  ]
}